{
 "cells": [
  {
   "cell_type": "code",
   "execution_count": 1,
   "metadata": {},
   "outputs": [],
   "source": [
    "import numpy as np\n",
    "import pandas as pd\n",
    "from nltk.corpus import stopwords\n",
    "from sklearn.feature_extraction.text import CountVectorizer,TfidfVectorizer\n",
    "from sklearn.feature_extraction import DictVectorizer\n",
    "from sklearn.model_selection import train_test_split\n",
    "from sklearn.preprocessing import LabelEncoder\n",
    "import psycopg2 as py\n",
    "import nltk\n",
    "from sklearn.metrics import classification_report\n",
    "from sklearn.metrics import roc_auc_score,roc_curve,confusion_matrix\n",
    "import matplotlib.pyplot as plt\n",
    "from sklearn.ensemble import RandomForestClassifier\n",
    "import re\n",
    "import phonetics as ph\n",
    "from xgboost import XGBClassifier\n",
    "import matplotlib.pyplot as plt\n",
    "%matplotlib inline\n",
    "from sklearn.pipeline import Pipeline,FeatureUnion\n",
    "from joblib  import dump,load \n",
    "from sklearn.utils import resample\n",
    "from sklearn.preprocessing import FunctionTransformer\n",
    "import pyphen\n",
    "import syllables\n",
    "from sklearn.utils import resample\n",
    "from sklearn.base import BaseEstimator,TransformerMixin\n",
    "from features import NameFeature,CleanName\n",
    "#from cleanname import CleanName"
   ]
  },
  {
   "cell_type": "code",
   "execution_count": 2,
   "metadata": {},
   "outputs": [],
   "source": [
    "\n",
    "\n",
    "def connection():\n",
    "#**********************************Define your data source connection here *************************************************    \n",
    "    return name_df\n"
   ]
  },
  {
   "cell_type": "code",
   "execution_count": 3,
   "metadata": {},
   "outputs": [],
   "source": [
    "def cleanfirstname(name):\n",
    "    #remove names starting with 'cust', cust-019292020 etc\n",
    "    try:\n",
    "        if len(name)<3 or name[:4]=='cust':\n",
    "            name='noname'\n",
    "            \n",
    "        #split the name , sometime firstname column also has surname\n",
    "        name=name.split()[0]\n",
    "\n",
    "        #remove occurences xxxxx,zzzzz,---,.....,@@ etc\n",
    "        name=''.join(re.findall('[x|z|-]*([a-zA-Z]+?)[z|x|-]*',name))\n",
    "\n",
    "        if not name.isalpha():\n",
    "            name='noname'\n",
    "\n",
    "        if len(name)<3:\n",
    "            name='noname'\n",
    "    except:\n",
    "        print(name)\n",
    "    \n",
    "    return name"
   ]
  },
  {
   "cell_type": "code",
   "execution_count": 4,
   "metadata": {},
   "outputs": [],
   "source": [
    "def gettrainingdata(name_df):\n",
    "    name_df['cleansed_firstname']=name_df.firstname.apply(lambda x: cleanfirstname(x))\n",
    "    name_df['firstletter']=name_df.cleansed_firstname.apply(lambda x:x[0] if len(x)>0 else '')\n",
    "    \n",
    "    #for each starting letter identify top 2000 names\n",
    "    firstletter_name_df=name_df[name_df['cleansed_firstname']!='noname'].groupby(['firstletter','cleansed_firstname']).cnt.agg([('cnt','sum')]).reset_index()\n",
    "    firstletter_name_top_2000_df=firstletter_name_df.groupby('firstletter').apply(lambda x:x.sort_values(by='cnt',ascending=False).head(2000))\n",
    "    firstletter_name_top_2000_df.rename(columns={'firstletter':'firstletter_2'},inplace=True)\n",
    "    firstletter_name_top_2000_df.reset_index(inplace=True)\n",
    "    firstletter_name_top_2000_df.drop(columns=['firstletter_2','level_1'],inplace=True)\n",
    "    \n",
    "    #selecting propernames\n",
    "\n",
    "    model_data=name_df.merge(firstletter_name_top_2000_df,on=['firstletter','cleansed_firstname'],how='inner')\n",
    "    print(\"Total Population: {} , Cleasned firstname population: {}, Top 2000 firstname population: {}\".format(name_df.cnt.sum(),firstletter_name_df.cnt.sum(),model_data.cnt_x.sum()))\n",
    "\n",
    "    #unique firstname, gender combination #for each name, select top gender\n",
    "    training_data=model_data.groupby(['cleansed_firstname','gender']).cnt_x.sum().reset_index()\n",
    "    training_data= training_data.groupby('cleansed_firstname').apply(lambda x:x.sort_values(by='cnt_x',ascending=False).head(1))\n",
    "    training_data.rename(columns={'cleansed_firstname':'cleansed_firstname_2'},inplace=True)\n",
    "    training_data.reset_index(inplace=True)\n",
    "    training_data.drop(columns=['cleansed_firstname_2','level_1'],inplace=True)\n",
    "    \n",
    "    le=LabelEncoder()\n",
    "    training_data['gender']=le.fit_transform(training_data['gender'])\n",
    "\n",
    "    gender_0_oversample=resample(training_data[training_data['gender']==1],n_samples=30000)\n",
    "    gender_1_oversample=resample(training_data[training_data['gender']==0],n_samples=30000)\n",
    "    training_data=pd.concat([gender_0_oversample,gender_1_oversample])\n",
    "\n",
    "    X=training_data['cleansed_firstname']\n",
    "    Y=training_data['gender']\n",
    "    x_train,x_test,y_train,y_test=train_test_split(X,Y,test_size=0.3,random_state=42)\n",
    "\n",
    "    return x_train,x_test,y_train,y_test"
   ]
  },
  {
   "cell_type": "code",
   "execution_count": 5,
   "metadata": {},
   "outputs": [],
   "source": [
    "def getRoccurve(y_test,y_pred_proba):\n",
    "    fpr,tpr,threshold=roc_curve(y_test,y_pred_proba)\n",
    "    score=roc_auc_score(y_test,y_pred_proba)\n",
    "    plt.xlabel('fpr')\n",
    "    plt.ylabel('tpr')\n",
    "    plt.plot(fpr,tpr,label='ROC Score %0.2f' %score)\n",
    "    plt.legend(loc='lower right')\n",
    "    \n",
    "    plt.show()"
   ]
  },
  {
   "cell_type": "code",
   "execution_count": 6,
   "metadata": {},
   "outputs": [],
   "source": [
    "def main():\n",
    "    data=connection()\n",
    "    x_train,x_test,y_train,y_test=gettrainingdata(data)\n",
    "    \n",
    "    pipeline=Pipeline(steps=[\n",
    "                    ('cleaning',CleanName()),\n",
    "                    ('features',NameFeature()),\n",
    "                    ('dictvectorizer',DictVectorizer()),\n",
    "                    ('model',RandomForestClassifier(n_estimators=100))])\n",
    "    \n",
    "    pipeline.fit(x_train,y_train)\n",
    "    getRoccurve(y_test,pipeline.predict_proba(x_test)[:,1])\n",
    "    print(classification_report(y_test,pipeline.predict(x_test)))\n",
    "    \n",
    "    dump(pipeline,filename=\"gender_classification.joblib\")"
   ]
  },
  {
   "cell_type": "code",
   "execution_count": 7,
   "metadata": {},
   "outputs": [
    {
     "name": "stdout",
     "output_type": "stream",
     "text": [
      "Total Population: 514771852 , Cleasned firstname population: 484349431, Top 2000 firstname population: 406114992\n"
     ]
    },
    {
     "data": {
      "image/png": "[encoded data removed]",
      "text/plain": [
       "<Figure size 432x288 with 1 Axes>"
      ]
     },
     "metadata": {
      "needs_background": "light"
     },
     "output_type": "display_data"
    },
    {
     "name": "stdout",
     "output_type": "stream",
     "text": [
      "              precision    recall  f1-score   support\n",
      "\n",
      "           0       0.93      0.95      0.94      9056\n",
      "           1       0.95      0.92      0.94      8944\n",
      "\n",
      "    accuracy                           0.94     18000\n",
      "   macro avg       0.94      0.94      0.94     18000\n",
      "weighted avg       0.94      0.94      0.94     18000\n",
      "\n"
     ]
    }
   ],
   "source": [
    "if __name__ == \"__main__\":\n",
    "    main()"
   ]
  },
  {
   "cell_type": "code",
   "execution_count": null,
   "metadata": {},
   "outputs": [],
   "source": []
  }
 ],
 "metadata": {
  "kernelspec": {
   "display_name": "Python 3",
   "language": "python",
   "name": "python3"
  },
  "language_info": {
   "codemirror_mode": {
    "name": "ipython",
    "version": 3
   },
   "file_extension": ".py",
   "mimetype": "text/x-python",
   "name": "python",
   "nbconvert_exporter": "python",
   "pygments_lexer": "ipython3",
   "version": "3.8.8"
  }
 },
 "nbformat": 4,
 "nbformat_minor": 4
}
