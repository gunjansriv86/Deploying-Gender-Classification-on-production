{
 "cells": [
  {
   "cell_type": "code",
   "execution_count": 1,
   "metadata": {},
   "outputs": [],
   "source": [
    "import numpy as np\n",
    "import pandas as pd\n",
    "from nltk.corpus import stopwords\n",
    "from sklearn.feature_extraction.text import CountVectorizer,TfidfVectorizer\n",
    "from sklearn.feature_extraction import DictVectorizer\n",
    "import psycopg2 as py\n",
    "import nltk\n",
    "import phonetics as ph\n",
    "from sklearn.metrics import classification_report,roc_auc_score,roc_curve\n",
    "import pyphen\n",
    "import syllables\n",
    "import re\n",
    "from sklearn.utils import resample\n",
    "import seaborn as sn\n",
    "from sklearn.preprocessing import LabelEncoder\n",
    "from sklearn.model_selection import train_test_split\n",
    "from matplotlib import pyplot as plt\n",
    "%matplotlib inline\n"
   ]
  },
  {
   "cell_type": "code",
   "execution_count": 2,
   "metadata": {},
   "outputs": [],
   "source": [
    "con=py.connect(host='192.168.202.21',port='5432',dbname='accrualdb',user='gunjans',password='OX463N@123')"
   ]
  },
  {
   "cell_type": "code",
   "execution_count": 3,
   "metadata": {},
   "outputs": [],
   "source": [
    "cur=con.cursor()"
   ]
  },
  {
   "cell_type": "code",
   "execution_count": 4,
   "metadata": {},
   "outputs": [],
   "source": [
    "cur.execute(\"select LOWER(firstname) firstname,gender,count(1) cnt\\\n",
    "  from  aimm.memberprofile \\\n",
    "  where bank='SBI' \\\n",
    "  and gender  in ('MALE','FEMALE')\\\n",
    "  and COALESCE(firstname,'')!='' group by LOWER(firstname) ,gender\")"
   ]
  },
  {
   "cell_type": "code",
   "execution_count": 5,
   "metadata": {},
   "outputs": [],
   "source": [
    "name_df=pd.DataFrame(cur.fetchall(),columns=['firstname','gender','cnt'])"
   ]
  },
  {
   "cell_type": "markdown",
   "metadata": {},
   "source": [
    "#  clean firstname and analyse letter distribution"
   ]
  },
  {
   "cell_type": "code",
   "execution_count": 6,
   "metadata": {},
   "outputs": [
    {
     "data": {
      "text/html": [
       "<div>\n",
       "<style scoped>\n",
       "    .dataframe tbody tr th:only-of-type {\n",
       "        vertical-align: middle;\n",
       "    }\n",
       "\n",
       "    .dataframe tbody tr th {\n",
       "        vertical-align: top;\n",
       "    }\n",
       "\n",
       "    .dataframe thead th {\n",
       "        text-align: right;\n",
       "    }\n",
       "</style>\n",
       "<table border=\"1\" class=\"dataframe\">\n",
       "  <thead>\n",
       "    <tr style=\"text-align: right;\">\n",
       "      <th></th>\n",
       "      <th>firstname</th>\n",
       "      <th>gender</th>\n",
       "      <th>cnt</th>\n",
       "    </tr>\n",
       "  </thead>\n",
       "  <tbody>\n",
       "    <tr>\n",
       "      <th>0</th>\n",
       "      <td>cust-f-name-25072015020259</td>\n",
       "      <td>MALE</td>\n",
       "      <td>1</td>\n",
       "    </tr>\n",
       "    <tr>\n",
       "      <th>1</th>\n",
       "      <td>pawra</td>\n",
       "      <td>FEMALE</td>\n",
       "      <td>29</td>\n",
       "    </tr>\n",
       "    <tr>\n",
       "      <th>2</th>\n",
       "      <td>khelanpuri</td>\n",
       "      <td>MALE</td>\n",
       "      <td>1</td>\n",
       "    </tr>\n",
       "    <tr>\n",
       "      <th>3</th>\n",
       "      <td>leela bai wo bane singh</td>\n",
       "      <td>FEMALE</td>\n",
       "      <td>1</td>\n",
       "    </tr>\n",
       "    <tr>\n",
       "      <th>4</th>\n",
       "      <td>bhagyashree gonal</td>\n",
       "      <td>MALE</td>\n",
       "      <td>1</td>\n",
       "    </tr>\n",
       "  </tbody>\n",
       "</table>\n",
       "</div>"
      ],
      "text/plain": [
       "                    firstname  gender  cnt\n",
       "0  cust-f-name-25072015020259    MALE    1\n",
       "1                       pawra  FEMALE   29\n",
       "2                  khelanpuri    MALE    1\n",
       "3     leela bai wo bane singh  FEMALE    1\n",
       "4           bhagyashree gonal    MALE    1"
      ]
     },
     "execution_count": 6,
     "metadata": {},
     "output_type": "execute_result"
    }
   ],
   "source": [
    "name_df.head()"
   ]
  },
  {
   "cell_type": "code",
   "execution_count": 7,
   "metadata": {},
   "outputs": [],
   "source": [
    "def cleanfirstname(name):\n",
    "    #remove names starting with 'cust', cust-019292020 etc\n",
    "    #try:\n",
    "        if len(name)<3 or name[:4]=='cust':\n",
    "            name='noname'\n",
    "        \n",
    "        #split the name , sometime firstname column also has surname\n",
    "        name=name.split()[0]\n",
    "\n",
    "        #remove occurences xxxxx,zzzzz,---,.....,@@ etc\n",
    "        name=''.join(re.findall('[x|z|-]*([a-zA-Z]+?)[z|x|-]*',name))\n",
    "\n",
    "        if not name.isalpha():\n",
    "            name='noname'\n",
    "\n",
    "        if len(name)<3:\n",
    "            name='noname'\n",
    "    #except:\n",
    "    #    print(name)\n",
    "    \n",
    "        return name"
   ]
  },
  {
   "cell_type": "code",
   "execution_count": 8,
   "metadata": {},
   "outputs": [],
   "source": [
    "#ignore name with len less than 3 and starting with keyword 'cust'\n",
    "\n",
    "name_df['cleansed_firstname']=name_df.firstname.apply(cleanfirstname)"
   ]
  },
  {
   "cell_type": "code",
   "execution_count": 9,
   "metadata": {},
   "outputs": [
    {
     "name": "stdout",
     "output_type": "stream",
     "text": [
      "514771852 (33322890, 4)\n"
     ]
    }
   ],
   "source": [
    "#Overall population and name, gender combination count\n",
    "print (name_df.cnt.sum(), name_df.shape)"
   ]
  },
  {
   "cell_type": "code",
   "execution_count": 10,
   "metadata": {},
   "outputs": [
    {
     "data": {
      "text/html": [
       "<div>\n",
       "<style scoped>\n",
       "    .dataframe tbody tr th:only-of-type {\n",
       "        vertical-align: middle;\n",
       "    }\n",
       "\n",
       "    .dataframe tbody tr th {\n",
       "        vertical-align: top;\n",
       "    }\n",
       "\n",
       "    .dataframe thead tr th {\n",
       "        text-align: left;\n",
       "    }\n",
       "\n",
       "    .dataframe thead tr:last-of-type th {\n",
       "        text-align: right;\n",
       "    }\n",
       "</style>\n",
       "<table border=\"1\" class=\"dataframe\">\n",
       "  <thead>\n",
       "    <tr>\n",
       "      <th></th>\n",
       "      <th colspan=\"2\" halign=\"left\">sum</th>\n",
       "      <th colspan=\"2\" halign=\"left\">count</th>\n",
       "    </tr>\n",
       "    <tr>\n",
       "      <th>gender</th>\n",
       "      <th>FEMALE</th>\n",
       "      <th>MALE</th>\n",
       "      <th>FEMALE</th>\n",
       "      <th>MALE</th>\n",
       "    </tr>\n",
       "    <tr>\n",
       "      <th>firstletter_original</th>\n",
       "      <th></th>\n",
       "      <th></th>\n",
       "      <th></th>\n",
       "      <th></th>\n",
       "    </tr>\n",
       "  </thead>\n",
       "  <tbody>\n",
       "    <tr>\n",
       "      <th></th>\n",
       "      <td>216</td>\n",
       "      <td>665</td>\n",
       "      <td>207</td>\n",
       "      <td>622</td>\n",
       "    </tr>\n",
       "    <tr>\n",
       "      <th>&amp;</th>\n",
       "      <td>446</td>\n",
       "      <td>920</td>\n",
       "      <td>188</td>\n",
       "      <td>545</td>\n",
       "    </tr>\n",
       "    <tr>\n",
       "      <th>(</th>\n",
       "      <td>17321</td>\n",
       "      <td>11928</td>\n",
       "      <td>10255</td>\n",
       "      <td>8578</td>\n",
       "    </tr>\n",
       "    <tr>\n",
       "      <th>)</th>\n",
       "      <td>41</td>\n",
       "      <td>56</td>\n",
       "      <td>22</td>\n",
       "      <td>23</td>\n",
       "    </tr>\n",
       "    <tr>\n",
       "      <th>-</th>\n",
       "      <td>3067</td>\n",
       "      <td>3294</td>\n",
       "      <td>299</td>\n",
       "      <td>547</td>\n",
       "    </tr>\n",
       "    <tr>\n",
       "      <th>.</th>\n",
       "      <td>451342</td>\n",
       "      <td>458880</td>\n",
       "      <td>2718</td>\n",
       "      <td>3505</td>\n",
       "    </tr>\n",
       "    <tr>\n",
       "      <th>/</th>\n",
       "      <td>123</td>\n",
       "      <td>167</td>\n",
       "      <td>51</td>\n",
       "      <td>67</td>\n",
       "    </tr>\n",
       "    <tr>\n",
       "      <th>0</th>\n",
       "      <td>655</td>\n",
       "      <td>1695</td>\n",
       "      <td>351</td>\n",
       "      <td>840</td>\n",
       "    </tr>\n",
       "    <tr>\n",
       "      <th>1</th>\n",
       "      <td>5378</td>\n",
       "      <td>12571</td>\n",
       "      <td>4832</td>\n",
       "      <td>10464</td>\n",
       "    </tr>\n",
       "    <tr>\n",
       "      <th>2</th>\n",
       "      <td>1057</td>\n",
       "      <td>2867</td>\n",
       "      <td>714</td>\n",
       "      <td>1970</td>\n",
       "    </tr>\n",
       "    <tr>\n",
       "      <th>3</th>\n",
       "      <td>291</td>\n",
       "      <td>1152</td>\n",
       "      <td>245</td>\n",
       "      <td>1032</td>\n",
       "    </tr>\n",
       "    <tr>\n",
       "      <th>4</th>\n",
       "      <td>157</td>\n",
       "      <td>861</td>\n",
       "      <td>133</td>\n",
       "      <td>805</td>\n",
       "    </tr>\n",
       "    <tr>\n",
       "      <th>5</th>\n",
       "      <td>123</td>\n",
       "      <td>726</td>\n",
       "      <td>96</td>\n",
       "      <td>679</td>\n",
       "    </tr>\n",
       "    <tr>\n",
       "      <th>6</th>\n",
       "      <td>96</td>\n",
       "      <td>594</td>\n",
       "      <td>90</td>\n",
       "      <td>563</td>\n",
       "    </tr>\n",
       "    <tr>\n",
       "      <th>7</th>\n",
       "      <td>88</td>\n",
       "      <td>1036</td>\n",
       "      <td>76</td>\n",
       "      <td>990</td>\n",
       "    </tr>\n",
       "    <tr>\n",
       "      <th>8</th>\n",
       "      <td>102</td>\n",
       "      <td>1563</td>\n",
       "      <td>101</td>\n",
       "      <td>1414</td>\n",
       "    </tr>\n",
       "    <tr>\n",
       "      <th>9</th>\n",
       "      <td>92</td>\n",
       "      <td>638</td>\n",
       "      <td>76</td>\n",
       "      <td>604</td>\n",
       "    </tr>\n",
       "    <tr>\n",
       "      <th>a</th>\n",
       "      <td>16124434</td>\n",
       "      <td>27784852</td>\n",
       "      <td>930934</td>\n",
       "      <td>1423648</td>\n",
       "    </tr>\n",
       "    <tr>\n",
       "      <th>b</th>\n",
       "      <td>10386587</td>\n",
       "      <td>18887535</td>\n",
       "      <td>637678</td>\n",
       "      <td>1088211</td>\n",
       "    </tr>\n",
       "    <tr>\n",
       "      <th>c</th>\n",
       "      <td>4960257</td>\n",
       "      <td>22691206</td>\n",
       "      <td>340798</td>\n",
       "      <td>4653562</td>\n",
       "    </tr>\n",
       "    <tr>\n",
       "      <th>d</th>\n",
       "      <td>6611431</td>\n",
       "      <td>14392797</td>\n",
       "      <td>463646</td>\n",
       "      <td>839052</td>\n",
       "    </tr>\n",
       "    <tr>\n",
       "      <th>e</th>\n",
       "      <td>783126</td>\n",
       "      <td>1042026</td>\n",
       "      <td>101232</td>\n",
       "      <td>157222</td>\n",
       "    </tr>\n",
       "    <tr>\n",
       "      <th>f</th>\n",
       "      <td>1632656</td>\n",
       "      <td>1182799</td>\n",
       "      <td>129193</td>\n",
       "      <td>130131</td>\n",
       "    </tr>\n",
       "    <tr>\n",
       "      <th>g</th>\n",
       "      <td>7401462</td>\n",
       "      <td>11568164</td>\n",
       "      <td>437852</td>\n",
       "      <td>732037</td>\n",
       "    </tr>\n",
       "    <tr>\n",
       "      <th>h</th>\n",
       "      <td>3575851</td>\n",
       "      <td>7249237</td>\n",
       "      <td>271268</td>\n",
       "      <td>487093</td>\n",
       "    </tr>\n",
       "    <tr>\n",
       "      <th>i</th>\n",
       "      <td>1607274</td>\n",
       "      <td>2392805</td>\n",
       "      <td>124357</td>\n",
       "      <td>187808</td>\n",
       "    </tr>\n",
       "    <tr>\n",
       "      <th>j</th>\n",
       "      <td>7639783</td>\n",
       "      <td>10945933</td>\n",
       "      <td>473405</td>\n",
       "      <td>667873</td>\n",
       "    </tr>\n",
       "    <tr>\n",
       "      <th>k</th>\n",
       "      <td>16047604</td>\n",
       "      <td>17485960</td>\n",
       "      <td>918343</td>\n",
       "      <td>1203784</td>\n",
       "    </tr>\n",
       "    <tr>\n",
       "      <th>l</th>\n",
       "      <td>6237314</td>\n",
       "      <td>4934865</td>\n",
       "      <td>317232</td>\n",
       "      <td>347306</td>\n",
       "    </tr>\n",
       "    <tr>\n",
       "      <th>m</th>\n",
       "      <td>20364821</td>\n",
       "      <td>29810032</td>\n",
       "      <td>1119495</td>\n",
       "      <td>1989960</td>\n",
       "    </tr>\n",
       "    <tr>\n",
       "      <th>n</th>\n",
       "      <td>9875684</td>\n",
       "      <td>12508092</td>\n",
       "      <td>572929</td>\n",
       "      <td>754650</td>\n",
       "    </tr>\n",
       "    <tr>\n",
       "      <th>o</th>\n",
       "      <td>365152</td>\n",
       "      <td>1214629</td>\n",
       "      <td>36605</td>\n",
       "      <td>77230</td>\n",
       "    </tr>\n",
       "    <tr>\n",
       "      <th>p</th>\n",
       "      <td>15976427</td>\n",
       "      <td>18358599</td>\n",
       "      <td>778041</td>\n",
       "      <td>1094275</td>\n",
       "    </tr>\n",
       "    <tr>\n",
       "      <th>q</th>\n",
       "      <td>28492</td>\n",
       "      <td>37444</td>\n",
       "      <td>6455</td>\n",
       "      <td>9127</td>\n",
       "    </tr>\n",
       "    <tr>\n",
       "      <th>r</th>\n",
       "      <td>19136239</td>\n",
       "      <td>30599200</td>\n",
       "      <td>784716</td>\n",
       "      <td>1232518</td>\n",
       "    </tr>\n",
       "    <tr>\n",
       "      <th>s</th>\n",
       "      <td>43501671</td>\n",
       "      <td>49606582</td>\n",
       "      <td>2151993</td>\n",
       "      <td>2783837</td>\n",
       "    </tr>\n",
       "    <tr>\n",
       "      <th>t</th>\n",
       "      <td>4376615</td>\n",
       "      <td>5789441</td>\n",
       "      <td>367233</td>\n",
       "      <td>505510</td>\n",
       "    </tr>\n",
       "    <tr>\n",
       "      <th>u</th>\n",
       "      <td>2778564</td>\n",
       "      <td>2749228</td>\n",
       "      <td>124677</td>\n",
       "      <td>158443</td>\n",
       "    </tr>\n",
       "    <tr>\n",
       "      <th>v</th>\n",
       "      <td>6273358</td>\n",
       "      <td>12363139</td>\n",
       "      <td>418524</td>\n",
       "      <td>755834</td>\n",
       "    </tr>\n",
       "    <tr>\n",
       "      <th>w</th>\n",
       "      <td>114474</td>\n",
       "      <td>331284</td>\n",
       "      <td>29036</td>\n",
       "      <td>55572</td>\n",
       "    </tr>\n",
       "    <tr>\n",
       "      <th>x</th>\n",
       "      <td>4006</td>\n",
       "      <td>27006</td>\n",
       "      <td>872</td>\n",
       "      <td>4015</td>\n",
       "    </tr>\n",
       "    <tr>\n",
       "      <th>y</th>\n",
       "      <td>1164919</td>\n",
       "      <td>2175504</td>\n",
       "      <td>113159</td>\n",
       "      <td>186901</td>\n",
       "    </tr>\n",
       "    <tr>\n",
       "      <th>z</th>\n",
       "      <td>354737</td>\n",
       "      <td>340347</td>\n",
       "      <td>45225</td>\n",
       "      <td>48691</td>\n",
       "    </tr>\n",
       "  </tbody>\n",
       "</table>\n",
       "</div>"
      ],
      "text/plain": [
       "                           sum              count         \n",
       "gender                  FEMALE      MALE   FEMALE     MALE\n",
       "firstletter_original                                      \n",
       "                           216       665      207      622\n",
       "&                          446       920      188      545\n",
       "(                        17321     11928    10255     8578\n",
       ")                           41        56       22       23\n",
       "-                         3067      3294      299      547\n",
       ".                       451342    458880     2718     3505\n",
       "/                          123       167       51       67\n",
       "0                          655      1695      351      840\n",
       "1                         5378     12571     4832    10464\n",
       "2                         1057      2867      714     1970\n",
       "3                          291      1152      245     1032\n",
       "4                          157       861      133      805\n",
       "5                          123       726       96      679\n",
       "6                           96       594       90      563\n",
       "7                           88      1036       76      990\n",
       "8                          102      1563      101     1414\n",
       "9                           92       638       76      604\n",
       "a                     16124434  27784852   930934  1423648\n",
       "b                     10386587  18887535   637678  1088211\n",
       "c                      4960257  22691206   340798  4653562\n",
       "d                      6611431  14392797   463646   839052\n",
       "e                       783126   1042026   101232   157222\n",
       "f                      1632656   1182799   129193   130131\n",
       "g                      7401462  11568164   437852   732037\n",
       "h                      3575851   7249237   271268   487093\n",
       "i                      1607274   2392805   124357   187808\n",
       "j                      7639783  10945933   473405   667873\n",
       "k                     16047604  17485960   918343  1203784\n",
       "l                      6237314   4934865   317232   347306\n",
       "m                     20364821  29810032  1119495  1989960\n",
       "n                      9875684  12508092   572929   754650\n",
       "o                       365152   1214629    36605    77230\n",
       "p                     15976427  18358599   778041  1094275\n",
       "q                        28492     37444     6455     9127\n",
       "r                     19136239  30599200   784716  1232518\n",
       "s                     43501671  49606582  2151993  2783837\n",
       "t                      4376615   5789441   367233   505510\n",
       "u                      2778564   2749228   124677   158443\n",
       "v                      6273358  12363139   418524   755834\n",
       "w                       114474    331284    29036    55572\n",
       "x                         4006     27006      872     4015\n",
       "y                      1164919   2175504   113159   186901\n",
       "z                       354737    340347    45225    48691"
      ]
     },
     "execution_count": 10,
     "metadata": {},
     "output_type": "execute_result"
    }
   ],
   "source": [
    "#Overall population and firstname first letter, gender combination count and distribution\n",
    "name_df['firstletter_original']=name_df.firstname.apply(lambda x:x[0] if len(x)>0 else '')\n",
    "name_df.pivot_table(index=['firstletter_original'],columns=['gender'],values='cnt',aggfunc=['sum','count'])"
   ]
  },
  {
   "cell_type": "code",
   "execution_count": 11,
   "metadata": {},
   "outputs": [
    {
     "data": {
      "text/html": [
       "<div>\n",
       "<style scoped>\n",
       "    .dataframe tbody tr th:only-of-type {\n",
       "        vertical-align: middle;\n",
       "    }\n",
       "\n",
       "    .dataframe tbody tr th {\n",
       "        vertical-align: top;\n",
       "    }\n",
       "\n",
       "    .dataframe thead tr th {\n",
       "        text-align: left;\n",
       "    }\n",
       "\n",
       "    .dataframe thead tr:last-of-type th {\n",
       "        text-align: right;\n",
       "    }\n",
       "</style>\n",
       "<table border=\"1\" class=\"dataframe\">\n",
       "  <thead>\n",
       "    <tr>\n",
       "      <th></th>\n",
       "      <th colspan=\"2\" halign=\"left\">sum</th>\n",
       "      <th colspan=\"2\" halign=\"left\">count</th>\n",
       "    </tr>\n",
       "    <tr>\n",
       "      <th>gender</th>\n",
       "      <th>FEMALE</th>\n",
       "      <th>MALE</th>\n",
       "      <th>FEMALE</th>\n",
       "      <th>MALE</th>\n",
       "    </tr>\n",
       "    <tr>\n",
       "      <th>lastletter_original</th>\n",
       "      <th></th>\n",
       "      <th></th>\n",
       "      <th></th>\n",
       "      <th></th>\n",
       "    </tr>\n",
       "  </thead>\n",
       "  <tbody>\n",
       "    <tr>\n",
       "      <th></th>\n",
       "      <td>6995</td>\n",
       "      <td>8338</td>\n",
       "      <td>6295</td>\n",
       "      <td>7357</td>\n",
       "    </tr>\n",
       "    <tr>\n",
       "      <th>&amp;</th>\n",
       "      <td>32653</td>\n",
       "      <td>56867</td>\n",
       "      <td>27574</td>\n",
       "      <td>49267</td>\n",
       "    </tr>\n",
       "    <tr>\n",
       "      <th>(</th>\n",
       "      <td>638</td>\n",
       "      <td>1136</td>\n",
       "      <td>619</td>\n",
       "      <td>990</td>\n",
       "    </tr>\n",
       "    <tr>\n",
       "      <th>)</th>\n",
       "      <td>293288</td>\n",
       "      <td>283275</td>\n",
       "      <td>205600</td>\n",
       "      <td>216452</td>\n",
       "    </tr>\n",
       "    <tr>\n",
       "      <th>-</th>\n",
       "      <td>7844</td>\n",
       "      <td>11721</td>\n",
       "      <td>4145</td>\n",
       "      <td>6944</td>\n",
       "    </tr>\n",
       "    <tr>\n",
       "      <th>.</th>\n",
       "      <td>737452</td>\n",
       "      <td>1195291</td>\n",
       "      <td>87609</td>\n",
       "      <td>161367</td>\n",
       "    </tr>\n",
       "    <tr>\n",
       "      <th>/</th>\n",
       "      <td>2882</td>\n",
       "      <td>4839</td>\n",
       "      <td>2623</td>\n",
       "      <td>4229</td>\n",
       "    </tr>\n",
       "    <tr>\n",
       "      <th>0</th>\n",
       "      <td>5300</td>\n",
       "      <td>1655756</td>\n",
       "      <td>3950</td>\n",
       "      <td>420694</td>\n",
       "    </tr>\n",
       "    <tr>\n",
       "      <th>1</th>\n",
       "      <td>5306</td>\n",
       "      <td>1599915</td>\n",
       "      <td>4650</td>\n",
       "      <td>416734</td>\n",
       "    </tr>\n",
       "    <tr>\n",
       "      <th>2</th>\n",
       "      <td>3966</td>\n",
       "      <td>1605575</td>\n",
       "      <td>3562</td>\n",
       "      <td>416329</td>\n",
       "    </tr>\n",
       "    <tr>\n",
       "      <th>3</th>\n",
       "      <td>3025</td>\n",
       "      <td>1611501</td>\n",
       "      <td>2855</td>\n",
       "      <td>415856</td>\n",
       "    </tr>\n",
       "    <tr>\n",
       "      <th>4</th>\n",
       "      <td>2573</td>\n",
       "      <td>1618187</td>\n",
       "      <td>2464</td>\n",
       "      <td>415913</td>\n",
       "    </tr>\n",
       "    <tr>\n",
       "      <th>5</th>\n",
       "      <td>2880</td>\n",
       "      <td>1625671</td>\n",
       "      <td>2341</td>\n",
       "      <td>416351</td>\n",
       "    </tr>\n",
       "    <tr>\n",
       "      <th>6</th>\n",
       "      <td>2446</td>\n",
       "      <td>1620919</td>\n",
       "      <td>2312</td>\n",
       "      <td>415317</td>\n",
       "    </tr>\n",
       "    <tr>\n",
       "      <th>7</th>\n",
       "      <td>2314</td>\n",
       "      <td>1627270</td>\n",
       "      <td>2228</td>\n",
       "      <td>415596</td>\n",
       "    </tr>\n",
       "    <tr>\n",
       "      <th>8</th>\n",
       "      <td>2379</td>\n",
       "      <td>1634641</td>\n",
       "      <td>2314</td>\n",
       "      <td>416319</td>\n",
       "    </tr>\n",
       "    <tr>\n",
       "      <th>9</th>\n",
       "      <td>2441</td>\n",
       "      <td>1642640</td>\n",
       "      <td>2319</td>\n",
       "      <td>417177</td>\n",
       "    </tr>\n",
       "    <tr>\n",
       "      <th>a</th>\n",
       "      <td>92163318</td>\n",
       "      <td>40211764</td>\n",
       "      <td>2782998</td>\n",
       "      <td>2748493</td>\n",
       "    </tr>\n",
       "    <tr>\n",
       "      <th>b</th>\n",
       "      <td>453398</td>\n",
       "      <td>2667091</td>\n",
       "      <td>70177</td>\n",
       "      <td>181839</td>\n",
       "    </tr>\n",
       "    <tr>\n",
       "      <th>c</th>\n",
       "      <td>154522</td>\n",
       "      <td>347764</td>\n",
       "      <td>35125</td>\n",
       "      <td>86708</td>\n",
       "    </tr>\n",
       "    <tr>\n",
       "      <th>d</th>\n",
       "      <td>895919</td>\n",
       "      <td>13060503</td>\n",
       "      <td>220486</td>\n",
       "      <td>700038</td>\n",
       "    </tr>\n",
       "    <tr>\n",
       "      <th>e</th>\n",
       "      <td>2532145</td>\n",
       "      <td>2971210</td>\n",
       "      <td>361080</td>\n",
       "      <td>421691</td>\n",
       "    </tr>\n",
       "    <tr>\n",
       "      <th>f</th>\n",
       "      <td>118391</td>\n",
       "      <td>852895</td>\n",
       "      <td>71196</td>\n",
       "      <td>119086</td>\n",
       "    </tr>\n",
       "    <tr>\n",
       "      <th>g</th>\n",
       "      <td>748842</td>\n",
       "      <td>1784773</td>\n",
       "      <td>318461</td>\n",
       "      <td>394901</td>\n",
       "    </tr>\n",
       "    <tr>\n",
       "      <th>h</th>\n",
       "      <td>3112421</td>\n",
       "      <td>33974242</td>\n",
       "      <td>513285</td>\n",
       "      <td>1300981</td>\n",
       "    </tr>\n",
       "    <tr>\n",
       "      <th>i</th>\n",
       "      <td>58008027</td>\n",
       "      <td>25300605</td>\n",
       "      <td>2545567</td>\n",
       "      <td>2303965</td>\n",
       "    </tr>\n",
       "    <tr>\n",
       "      <th>j</th>\n",
       "      <td>1308725</td>\n",
       "      <td>6411805</td>\n",
       "      <td>85260</td>\n",
       "      <td>203726</td>\n",
       "    </tr>\n",
       "    <tr>\n",
       "      <th>k</th>\n",
       "      <td>1195632</td>\n",
       "      <td>7365284</td>\n",
       "      <td>128434</td>\n",
       "      <td>296664</td>\n",
       "    </tr>\n",
       "    <tr>\n",
       "      <th>l</th>\n",
       "      <td>4541709</td>\n",
       "      <td>20382177</td>\n",
       "      <td>467376</td>\n",
       "      <td>955523</td>\n",
       "    </tr>\n",
       "    <tr>\n",
       "      <th>m</th>\n",
       "      <td>6055643</td>\n",
       "      <td>16165776</td>\n",
       "      <td>537206</td>\n",
       "      <td>825372</td>\n",
       "    </tr>\n",
       "    <tr>\n",
       "      <th>n</th>\n",
       "      <td>12073766</td>\n",
       "      <td>32132960</td>\n",
       "      <td>927013</td>\n",
       "      <td>1658000</td>\n",
       "    </tr>\n",
       "    <tr>\n",
       "      <th>o</th>\n",
       "      <td>1950251</td>\n",
       "      <td>4020249</td>\n",
       "      <td>267803</td>\n",
       "      <td>578549</td>\n",
       "    </tr>\n",
       "    <tr>\n",
       "      <th>p</th>\n",
       "      <td>914483</td>\n",
       "      <td>5118594</td>\n",
       "      <td>96285</td>\n",
       "      <td>178551</td>\n",
       "    </tr>\n",
       "    <tr>\n",
       "      <th>q</th>\n",
       "      <td>19315</td>\n",
       "      <td>225605</td>\n",
       "      <td>11289</td>\n",
       "      <td>34492</td>\n",
       "    </tr>\n",
       "    <tr>\n",
       "      <th>r</th>\n",
       "      <td>4005229</td>\n",
       "      <td>31412159</td>\n",
       "      <td>658115</td>\n",
       "      <td>1526105</td>\n",
       "    </tr>\n",
       "    <tr>\n",
       "      <th>s</th>\n",
       "      <td>1658565</td>\n",
       "      <td>4606726</td>\n",
       "      <td>217642</td>\n",
       "      <td>499525</td>\n",
       "    </tr>\n",
       "    <tr>\n",
       "      <th>t</th>\n",
       "      <td>2837661</td>\n",
       "      <td>12030079</td>\n",
       "      <td>206478</td>\n",
       "      <td>397090</td>\n",
       "    </tr>\n",
       "    <tr>\n",
       "      <th>u</th>\n",
       "      <td>7982430</td>\n",
       "      <td>13692781</td>\n",
       "      <td>380481</td>\n",
       "      <td>716899</td>\n",
       "    </tr>\n",
       "    <tr>\n",
       "      <th>v</th>\n",
       "      <td>511095</td>\n",
       "      <td>4092503</td>\n",
       "      <td>93216</td>\n",
       "      <td>204987</td>\n",
       "    </tr>\n",
       "    <tr>\n",
       "      <th>w</th>\n",
       "      <td>27477</td>\n",
       "      <td>156044</td>\n",
       "      <td>9431</td>\n",
       "      <td>21177</td>\n",
       "    </tr>\n",
       "    <tr>\n",
       "      <th>x</th>\n",
       "      <td>8467</td>\n",
       "      <td>50761</td>\n",
       "      <td>2457</td>\n",
       "      <td>8878</td>\n",
       "    </tr>\n",
       "    <tr>\n",
       "      <th>y</th>\n",
       "      <td>3189422</td>\n",
       "      <td>9577982</td>\n",
       "      <td>321871</td>\n",
       "      <td>587469</td>\n",
       "    </tr>\n",
       "    <tr>\n",
       "      <th>z</th>\n",
       "      <td>222298</td>\n",
       "      <td>552445</td>\n",
       "      <td>23160</td>\n",
       "      <td>43937</td>\n",
       "    </tr>\n",
       "  </tbody>\n",
       "</table>\n",
       "</div>"
      ],
      "text/plain": [
       "                          sum              count         \n",
       "gender                 FEMALE      MALE   FEMALE     MALE\n",
       "lastletter_original                                      \n",
       "                         6995      8338     6295     7357\n",
       "&                       32653     56867    27574    49267\n",
       "(                         638      1136      619      990\n",
       ")                      293288    283275   205600   216452\n",
       "-                        7844     11721     4145     6944\n",
       ".                      737452   1195291    87609   161367\n",
       "/                        2882      4839     2623     4229\n",
       "0                        5300   1655756     3950   420694\n",
       "1                        5306   1599915     4650   416734\n",
       "2                        3966   1605575     3562   416329\n",
       "3                        3025   1611501     2855   415856\n",
       "4                        2573   1618187     2464   415913\n",
       "5                        2880   1625671     2341   416351\n",
       "6                        2446   1620919     2312   415317\n",
       "7                        2314   1627270     2228   415596\n",
       "8                        2379   1634641     2314   416319\n",
       "9                        2441   1642640     2319   417177\n",
       "a                    92163318  40211764  2782998  2748493\n",
       "b                      453398   2667091    70177   181839\n",
       "c                      154522    347764    35125    86708\n",
       "d                      895919  13060503   220486   700038\n",
       "e                     2532145   2971210   361080   421691\n",
       "f                      118391    852895    71196   119086\n",
       "g                      748842   1784773   318461   394901\n",
       "h                     3112421  33974242   513285  1300981\n",
       "i                    58008027  25300605  2545567  2303965\n",
       "j                     1308725   6411805    85260   203726\n",
       "k                     1195632   7365284   128434   296664\n",
       "l                     4541709  20382177   467376   955523\n",
       "m                     6055643  16165776   537206   825372\n",
       "n                    12073766  32132960   927013  1658000\n",
       "o                     1950251   4020249   267803   578549\n",
       "p                      914483   5118594    96285   178551\n",
       "q                       19315    225605    11289    34492\n",
       "r                     4005229  31412159   658115  1526105\n",
       "s                     1658565   4606726   217642   499525\n",
       "t                     2837661  12030079   206478   397090\n",
       "u                     7982430  13692781   380481   716899\n",
       "v                      511095   4092503    93216   204987\n",
       "w                       27477    156044     9431    21177\n",
       "x                        8467     50761     2457     8878\n",
       "y                     3189422   9577982   321871   587469\n",
       "z                      222298    552445    23160    43937"
      ]
     },
     "execution_count": 11,
     "metadata": {},
     "output_type": "execute_result"
    }
   ],
   "source": [
    "\n",
    "#Overall population and firstname last letter, gender combination count and distribution\n",
    "name_df['lastletter_original']=name_df.firstname.apply(lambda x:x[-1] if len(x)>0 else '')\n",
    "name_df.pivot_table(index=['lastletter_original'],columns=['gender'],values='cnt',aggfunc=['sum','count'])"
   ]
  },
  {
   "cell_type": "code",
   "execution_count": 12,
   "metadata": {},
   "outputs": [
    {
     "name": "stdout",
     "output_type": "stream",
     "text": [
      "484349431 (27686874, 6)\n"
     ]
    }
   ],
   "source": [
    "#Overall population and cleansed name, gender combination count\n",
    "print (name_df[name_df['cleansed_firstname']!='noname'].cnt.sum(), name_df[name_df['cleansed_firstname']!='noname'].shape)"
   ]
  },
  {
   "cell_type": "code",
   "execution_count": 13,
   "metadata": {},
   "outputs": [
    {
     "data": {
      "text/html": [
       "<div>\n",
       "<style scoped>\n",
       "    .dataframe tbody tr th:only-of-type {\n",
       "        vertical-align: middle;\n",
       "    }\n",
       "\n",
       "    .dataframe tbody tr th {\n",
       "        vertical-align: top;\n",
       "    }\n",
       "\n",
       "    .dataframe thead tr th {\n",
       "        text-align: left;\n",
       "    }\n",
       "\n",
       "    .dataframe thead tr:last-of-type th {\n",
       "        text-align: right;\n",
       "    }\n",
       "</style>\n",
       "<table border=\"1\" class=\"dataframe\">\n",
       "  <thead>\n",
       "    <tr>\n",
       "      <th></th>\n",
       "      <th colspan=\"2\" halign=\"left\">sum</th>\n",
       "      <th colspan=\"2\" halign=\"left\">count</th>\n",
       "    </tr>\n",
       "    <tr>\n",
       "      <th>gender</th>\n",
       "      <th>FEMALE</th>\n",
       "      <th>MALE</th>\n",
       "      <th>FEMALE</th>\n",
       "      <th>MALE</th>\n",
       "    </tr>\n",
       "    <tr>\n",
       "      <th>firstletter_cleansed</th>\n",
       "      <th></th>\n",
       "      <th></th>\n",
       "      <th></th>\n",
       "      <th></th>\n",
       "    </tr>\n",
       "  </thead>\n",
       "  <tbody>\n",
       "    <tr>\n",
       "      <th>a</th>\n",
       "      <td>16119244</td>\n",
       "      <td>27623684</td>\n",
       "      <td>930810</td>\n",
       "      <td>1400466</td>\n",
       "    </tr>\n",
       "    <tr>\n",
       "      <th>b</th>\n",
       "      <td>10164269</td>\n",
       "      <td>18522375</td>\n",
       "      <td>613273</td>\n",
       "      <td>1041049</td>\n",
       "    </tr>\n",
       "    <tr>\n",
       "      <th>c</th>\n",
       "      <td>4813387</td>\n",
       "      <td>6259588</td>\n",
       "      <td>323664</td>\n",
       "      <td>516707</td>\n",
       "    </tr>\n",
       "    <tr>\n",
       "      <th>d</th>\n",
       "      <td>6486128</td>\n",
       "      <td>14154575</td>\n",
       "      <td>442416</td>\n",
       "      <td>787710</td>\n",
       "    </tr>\n",
       "    <tr>\n",
       "      <th>e</th>\n",
       "      <td>806129</td>\n",
       "      <td>973381</td>\n",
       "      <td>103402</td>\n",
       "      <td>139539</td>\n",
       "    </tr>\n",
       "    <tr>\n",
       "      <th>f</th>\n",
       "      <td>1627716</td>\n",
       "      <td>1162592</td>\n",
       "      <td>128191</td>\n",
       "      <td>123607</td>\n",
       "    </tr>\n",
       "    <tr>\n",
       "      <th>g</th>\n",
       "      <td>7212327</td>\n",
       "      <td>11248681</td>\n",
       "      <td>419536</td>\n",
       "      <td>691960</td>\n",
       "    </tr>\n",
       "    <tr>\n",
       "      <th>h</th>\n",
       "      <td>3519376</td>\n",
       "      <td>7105388</td>\n",
       "      <td>259270</td>\n",
       "      <td>450304</td>\n",
       "    </tr>\n",
       "    <tr>\n",
       "      <th>i</th>\n",
       "      <td>1612972</td>\n",
       "      <td>2405083</td>\n",
       "      <td>125954</td>\n",
       "      <td>188100</td>\n",
       "    </tr>\n",
       "    <tr>\n",
       "      <th>j</th>\n",
       "      <td>7568911</td>\n",
       "      <td>10820104</td>\n",
       "      <td>464442</td>\n",
       "      <td>650068</td>\n",
       "    </tr>\n",
       "    <tr>\n",
       "      <th>k</th>\n",
       "      <td>15371331</td>\n",
       "      <td>16778258</td>\n",
       "      <td>850796</td>\n",
       "      <td>1124771</td>\n",
       "    </tr>\n",
       "    <tr>\n",
       "      <th>l</th>\n",
       "      <td>6195849</td>\n",
       "      <td>4856986</td>\n",
       "      <td>309764</td>\n",
       "      <td>331377</td>\n",
       "    </tr>\n",
       "    <tr>\n",
       "      <th>m</th>\n",
       "      <td>19866972</td>\n",
       "      <td>26338941</td>\n",
       "      <td>1067842</td>\n",
       "      <td>1703128</td>\n",
       "    </tr>\n",
       "    <tr>\n",
       "      <th>n</th>\n",
       "      <td>9738533</td>\n",
       "      <td>12248094</td>\n",
       "      <td>555895</td>\n",
       "      <td>717581</td>\n",
       "    </tr>\n",
       "    <tr>\n",
       "      <th>o</th>\n",
       "      <td>341320</td>\n",
       "      <td>710761</td>\n",
       "      <td>36546</td>\n",
       "      <td>65553</td>\n",
       "    </tr>\n",
       "    <tr>\n",
       "      <th>p</th>\n",
       "      <td>15696626</td>\n",
       "      <td>17883488</td>\n",
       "      <td>753588</td>\n",
       "      <td>1042070</td>\n",
       "    </tr>\n",
       "    <tr>\n",
       "      <th>q</th>\n",
       "      <td>28364</td>\n",
       "      <td>36832</td>\n",
       "      <td>6422</td>\n",
       "      <td>8904</td>\n",
       "    </tr>\n",
       "    <tr>\n",
       "      <th>r</th>\n",
       "      <td>18953633</td>\n",
       "      <td>30267198</td>\n",
       "      <td>768236</td>\n",
       "      <td>1198060</td>\n",
       "    </tr>\n",
       "    <tr>\n",
       "      <th>s</th>\n",
       "      <td>43114204</td>\n",
       "      <td>48514643</td>\n",
       "      <td>2104480</td>\n",
       "      <td>2657326</td>\n",
       "    </tr>\n",
       "    <tr>\n",
       "      <th>t</th>\n",
       "      <td>4238458</td>\n",
       "      <td>5547577</td>\n",
       "      <td>351004</td>\n",
       "      <td>471503</td>\n",
       "    </tr>\n",
       "    <tr>\n",
       "      <th>u</th>\n",
       "      <td>2809312</td>\n",
       "      <td>2762037</td>\n",
       "      <td>128519</td>\n",
       "      <td>158299</td>\n",
       "    </tr>\n",
       "    <tr>\n",
       "      <th>v</th>\n",
       "      <td>6110855</td>\n",
       "      <td>12056115</td>\n",
       "      <td>401118</td>\n",
       "      <td>711739</td>\n",
       "    </tr>\n",
       "    <tr>\n",
       "      <th>w</th>\n",
       "      <td>107983</td>\n",
       "      <td>322286</td>\n",
       "      <td>26432</td>\n",
       "      <td>52338</td>\n",
       "    </tr>\n",
       "    <tr>\n",
       "      <th>x</th>\n",
       "      <td>14</td>\n",
       "      <td>23</td>\n",
       "      <td>14</td>\n",
       "      <td>23</td>\n",
       "    </tr>\n",
       "    <tr>\n",
       "      <th>y</th>\n",
       "      <td>1130425</td>\n",
       "      <td>2116227</td>\n",
       "      <td>107466</td>\n",
       "      <td>175440</td>\n",
       "    </tr>\n",
       "    <tr>\n",
       "      <th>z</th>\n",
       "      <td>55</td>\n",
       "      <td>121</td>\n",
       "      <td>55</td>\n",
       "      <td>117</td>\n",
       "    </tr>\n",
       "  </tbody>\n",
       "</table>\n",
       "</div>"
      ],
      "text/plain": [
       "                           sum              count         \n",
       "gender                  FEMALE      MALE   FEMALE     MALE\n",
       "firstletter_cleansed                                      \n",
       "a                     16119244  27623684   930810  1400466\n",
       "b                     10164269  18522375   613273  1041049\n",
       "c                      4813387   6259588   323664   516707\n",
       "d                      6486128  14154575   442416   787710\n",
       "e                       806129    973381   103402   139539\n",
       "f                      1627716   1162592   128191   123607\n",
       "g                      7212327  11248681   419536   691960\n",
       "h                      3519376   7105388   259270   450304\n",
       "i                      1612972   2405083   125954   188100\n",
       "j                      7568911  10820104   464442   650068\n",
       "k                     15371331  16778258   850796  1124771\n",
       "l                      6195849   4856986   309764   331377\n",
       "m                     19866972  26338941  1067842  1703128\n",
       "n                      9738533  12248094   555895   717581\n",
       "o                       341320    710761    36546    65553\n",
       "p                     15696626  17883488   753588  1042070\n",
       "q                        28364     36832     6422     8904\n",
       "r                     18953633  30267198   768236  1198060\n",
       "s                     43114204  48514643  2104480  2657326\n",
       "t                      4238458   5547577   351004   471503\n",
       "u                      2809312   2762037   128519   158299\n",
       "v                      6110855  12056115   401118   711739\n",
       "w                       107983    322286    26432    52338\n",
       "x                           14        23       14       23\n",
       "y                      1130425   2116227   107466   175440\n",
       "z                           55       121       55      117"
      ]
     },
     "execution_count": 13,
     "metadata": {},
     "output_type": "execute_result"
    }
   ],
   "source": [
    "#Overall population and cleansed name first letter, gender combination count and distribution\n",
    "\n",
    "name_df['firstletter_cleansed']=name_df.cleansed_firstname.apply(lambda x:x[0] if len(x)>0 else '')\n",
    "name_df[name_df['cleansed_firstname']!='noname'].pivot_table(index=['firstletter_cleansed'],columns=['gender'],values='cnt',aggfunc=['sum','count'])"
   ]
  },
  {
   "cell_type": "code",
   "execution_count": 14,
   "metadata": {},
   "outputs": [
    {
     "data": {
      "text/html": [
       "<div>\n",
       "<style scoped>\n",
       "    .dataframe tbody tr th:only-of-type {\n",
       "        vertical-align: middle;\n",
       "    }\n",
       "\n",
       "    .dataframe tbody tr th {\n",
       "        vertical-align: top;\n",
       "    }\n",
       "\n",
       "    .dataframe thead tr th {\n",
       "        text-align: left;\n",
       "    }\n",
       "\n",
       "    .dataframe thead tr:last-of-type th {\n",
       "        text-align: right;\n",
       "    }\n",
       "</style>\n",
       "<table border=\"1\" class=\"dataframe\">\n",
       "  <thead>\n",
       "    <tr>\n",
       "      <th></th>\n",
       "      <th colspan=\"2\" halign=\"left\">sum</th>\n",
       "      <th colspan=\"2\" halign=\"left\">count</th>\n",
       "    </tr>\n",
       "    <tr>\n",
       "      <th>gender</th>\n",
       "      <th>FEMALE</th>\n",
       "      <th>MALE</th>\n",
       "      <th>FEMALE</th>\n",
       "      <th>MALE</th>\n",
       "    </tr>\n",
       "    <tr>\n",
       "      <th>lastletter_cleansed</th>\n",
       "      <th></th>\n",
       "      <th></th>\n",
       "      <th></th>\n",
       "      <th></th>\n",
       "    </tr>\n",
       "  </thead>\n",
       "  <tbody>\n",
       "    <tr>\n",
       "      <th>a</th>\n",
       "      <td>96692532</td>\n",
       "      <td>43806964</td>\n",
       "      <td>4264492</td>\n",
       "      <td>3192200</td>\n",
       "    </tr>\n",
       "    <tr>\n",
       "      <th>b</th>\n",
       "      <td>245106</td>\n",
       "      <td>2363592</td>\n",
       "      <td>29699</td>\n",
       "      <td>146535</td>\n",
       "    </tr>\n",
       "    <tr>\n",
       "      <th>c</th>\n",
       "      <td>26672</td>\n",
       "      <td>115707</td>\n",
       "      <td>15889</td>\n",
       "      <td>51857</td>\n",
       "    </tr>\n",
       "    <tr>\n",
       "      <th>d</th>\n",
       "      <td>632260</td>\n",
       "      <td>11753571</td>\n",
       "      <td>97952</td>\n",
       "      <td>773258</td>\n",
       "    </tr>\n",
       "    <tr>\n",
       "      <th>e</th>\n",
       "      <td>2414375</td>\n",
       "      <td>3048098</td>\n",
       "      <td>352397</td>\n",
       "      <td>413612</td>\n",
       "    </tr>\n",
       "    <tr>\n",
       "      <th>f</th>\n",
       "      <td>42562</td>\n",
       "      <td>682438</td>\n",
       "      <td>12162</td>\n",
       "      <td>59778</td>\n",
       "    </tr>\n",
       "    <tr>\n",
       "      <th>g</th>\n",
       "      <td>234566</td>\n",
       "      <td>1282570</td>\n",
       "      <td>64257</td>\n",
       "      <td>178295</td>\n",
       "    </tr>\n",
       "    <tr>\n",
       "      <th>h</th>\n",
       "      <td>2646787</td>\n",
       "      <td>34062395</td>\n",
       "      <td>240354</td>\n",
       "      <td>1388199</td>\n",
       "    </tr>\n",
       "    <tr>\n",
       "      <th>i</th>\n",
       "      <td>56109322</td>\n",
       "      <td>25602827</td>\n",
       "      <td>2919541</td>\n",
       "      <td>2096605</td>\n",
       "    </tr>\n",
       "    <tr>\n",
       "      <th>j</th>\n",
       "      <td>1280793</td>\n",
       "      <td>6747265</td>\n",
       "      <td>56905</td>\n",
       "      <td>250713</td>\n",
       "    </tr>\n",
       "    <tr>\n",
       "      <th>k</th>\n",
       "      <td>781207</td>\n",
       "      <td>6890486</td>\n",
       "      <td>76748</td>\n",
       "      <td>312241</td>\n",
       "    </tr>\n",
       "    <tr>\n",
       "      <th>l</th>\n",
       "      <td>4396137</td>\n",
       "      <td>20395466</td>\n",
       "      <td>320992</td>\n",
       "      <td>960982</td>\n",
       "    </tr>\n",
       "    <tr>\n",
       "      <th>m</th>\n",
       "      <td>5388304</td>\n",
       "      <td>15501887</td>\n",
       "      <td>410157</td>\n",
       "      <td>881727</td>\n",
       "    </tr>\n",
       "    <tr>\n",
       "      <th>n</th>\n",
       "      <td>11816590</td>\n",
       "      <td>32277807</td>\n",
       "      <td>808910</td>\n",
       "      <td>1649531</td>\n",
       "    </tr>\n",
       "    <tr>\n",
       "      <th>o</th>\n",
       "      <td>1682590</td>\n",
       "      <td>2516672</td>\n",
       "      <td>128882</td>\n",
       "      <td>272395</td>\n",
       "    </tr>\n",
       "    <tr>\n",
       "      <th>p</th>\n",
       "      <td>627263</td>\n",
       "      <td>5044528</td>\n",
       "      <td>42383</td>\n",
       "      <td>178655</td>\n",
       "    </tr>\n",
       "    <tr>\n",
       "      <th>q</th>\n",
       "      <td>6981</td>\n",
       "      <td>185685</td>\n",
       "      <td>2590</td>\n",
       "      <td>18703</td>\n",
       "    </tr>\n",
       "    <tr>\n",
       "      <th>r</th>\n",
       "      <td>3195689</td>\n",
       "      <td>24874617</td>\n",
       "      <td>354085</td>\n",
       "      <td>1345094</td>\n",
       "    </tr>\n",
       "    <tr>\n",
       "      <th>s</th>\n",
       "      <td>1070096</td>\n",
       "      <td>3790336</td>\n",
       "      <td>99705</td>\n",
       "      <td>298259</td>\n",
       "    </tr>\n",
       "    <tr>\n",
       "      <th>t</th>\n",
       "      <td>2878575</td>\n",
       "      <td>12633355</td>\n",
       "      <td>215865</td>\n",
       "      <td>515041</td>\n",
       "    </tr>\n",
       "    <tr>\n",
       "      <th>u</th>\n",
       "      <td>8088219</td>\n",
       "      <td>13812812</td>\n",
       "      <td>436625</td>\n",
       "      <td>749596</td>\n",
       "    </tr>\n",
       "    <tr>\n",
       "      <th>v</th>\n",
       "      <td>267890</td>\n",
       "      <td>3979963</td>\n",
       "      <td>33512</td>\n",
       "      <td>182594</td>\n",
       "    </tr>\n",
       "    <tr>\n",
       "      <th>w</th>\n",
       "      <td>19553</td>\n",
       "      <td>150810</td>\n",
       "      <td>5805</td>\n",
       "      <td>18308</td>\n",
       "    </tr>\n",
       "    <tr>\n",
       "      <th>x</th>\n",
       "      <td>61</td>\n",
       "      <td>262</td>\n",
       "      <td>54</td>\n",
       "      <td>204</td>\n",
       "    </tr>\n",
       "    <tr>\n",
       "      <th>y</th>\n",
       "      <td>3090235</td>\n",
       "      <td>9194846</td>\n",
       "      <td>289146</td>\n",
       "      <td>473284</td>\n",
       "    </tr>\n",
       "    <tr>\n",
       "      <th>z</th>\n",
       "      <td>28</td>\n",
       "      <td>79</td>\n",
       "      <td>28</td>\n",
       "      <td>73</td>\n",
       "    </tr>\n",
       "  </tbody>\n",
       "</table>\n",
       "</div>"
      ],
      "text/plain": [
       "                          sum              count         \n",
       "gender                 FEMALE      MALE   FEMALE     MALE\n",
       "lastletter_cleansed                                      \n",
       "a                    96692532  43806964  4264492  3192200\n",
       "b                      245106   2363592    29699   146535\n",
       "c                       26672    115707    15889    51857\n",
       "d                      632260  11753571    97952   773258\n",
       "e                     2414375   3048098   352397   413612\n",
       "f                       42562    682438    12162    59778\n",
       "g                      234566   1282570    64257   178295\n",
       "h                     2646787  34062395   240354  1388199\n",
       "i                    56109322  25602827  2919541  2096605\n",
       "j                     1280793   6747265    56905   250713\n",
       "k                      781207   6890486    76748   312241\n",
       "l                     4396137  20395466   320992   960982\n",
       "m                     5388304  15501887   410157   881727\n",
       "n                    11816590  32277807   808910  1649531\n",
       "o                     1682590   2516672   128882   272395\n",
       "p                      627263   5044528    42383   178655\n",
       "q                        6981    185685     2590    18703\n",
       "r                     3195689  24874617   354085  1345094\n",
       "s                     1070096   3790336    99705   298259\n",
       "t                     2878575  12633355   215865   515041\n",
       "u                     8088219  13812812   436625   749596\n",
       "v                      267890   3979963    33512   182594\n",
       "w                       19553    150810     5805    18308\n",
       "x                          61       262       54      204\n",
       "y                     3090235   9194846   289146   473284\n",
       "z                          28        79       28       73"
      ]
     },
     "execution_count": 14,
     "metadata": {},
     "output_type": "execute_result"
    }
   ],
   "source": [
    "#Overall population and cleansed name last letter, gender combination count and distribution\n",
    "\n",
    "name_df['lastletter_cleansed']=name_df.cleansed_firstname.apply(lambda x:x[-1] if len(x)>0 else '')\n",
    "name_df[name_df['cleansed_firstname']!='noname'].pivot_table(index=['lastletter_cleansed'],columns=['gender'],values='cnt',aggfunc=['sum','count'])"
   ]
  },
  {
   "cell_type": "code",
   "execution_count": 15,
   "metadata": {},
   "outputs": [],
   "source": [
    "#letter wise distribution"
   ]
  },
  {
   "cell_type": "code",
   "execution_count": 16,
   "metadata": {},
   "outputs": [],
   "source": [
    "import nltk\n",
    "import matplotlib.pyplot as plt"
   ]
  },
  {
   "cell_type": "code",
   "execution_count": 17,
   "metadata": {},
   "outputs": [
    {
     "data": {
      "image/png": "[encoded data removed]",
      "text/plain": [
       "<Figure size 720x360 with 1 Axes>"
      ]
     },
     "metadata": {
      "needs_background": "light"
     },
     "output_type": "display_data"
    },
    {
     "data": {
      "text/plain": [
       "<matplotlib.axes._subplots.AxesSubplot at 0x1f6a3a0e070>"
      ]
     },
     "execution_count": 17,
     "metadata": {},
     "output_type": "execute_result"
    }
   ],
   "source": [
    "#First letter distribution\n",
    "\n",
    "dist=nltk.FreqDist([w[:1] for w in name_df[name_df['cleansed_firstname']!='noname']['cleansed_firstname']])\n",
    "plt.figure(figsize=(10,5))\n",
    "dist.plot()\n"
   ]
  },
  {
   "cell_type": "code",
   "execution_count": 18,
   "metadata": {},
   "outputs": [
    {
     "data": {
      "image/png": "[encoded data removed]",
      "text/plain": [
       "<Figure size 720x360 with 1 Axes>"
      ]
     },
     "metadata": {
      "needs_background": "light"
     },
     "output_type": "display_data"
    },
    {
     "data": {
      "text/plain": [
       "<matplotlib.axes._subplots.AxesSubplot at 0x1f4bf8ea3d0>"
      ]
     },
     "execution_count": 18,
     "metadata": {},
     "output_type": "execute_result"
    }
   ],
   "source": [
    "#Top 10 first letters\n",
    "\n",
    "plt.figure(figsize=(10,5))\n",
    "dist.plot(10,cumulative=True)"
   ]
  },
  {
   "cell_type": "markdown",
   "metadata": {},
   "source": [
    "Insights:\n",
    "\n",
    "Most frequent starting letter in names are s,m,a,k,r,p,b,n,d,v"
   ]
  },
  {
   "cell_type": "code",
   "execution_count": 19,
   "metadata": {},
   "outputs": [
    {
     "data": {
      "image/png": "[encoded data removed]",
      "text/plain": [
       "<Figure size 720x360 with 1 Axes>"
      ]
     },
     "metadata": {
      "needs_background": "light"
     },
     "output_type": "display_data"
    },
    {
     "data": {
      "text/plain": [
       "<matplotlib.axes._subplots.AxesSubplot at 0x1f4bf992760>"
      ]
     },
     "execution_count": 19,
     "metadata": {},
     "output_type": "execute_result"
    }
   ],
   "source": [
    "#last letter distribution\n",
    "\n",
    "dist=nltk.FreqDist([w[-1] for w in name_df[name_df['cleansed_firstname']!='noname']['cleansed_firstname']])\n",
    "plt.figure(figsize=(10,5))\n",
    "dist.plot()\n"
   ]
  },
  {
   "cell_type": "markdown",
   "metadata": {},
   "source": [
    "# letter and gender wise distribution"
   ]
  },
  {
   "cell_type": "code",
   "execution_count": 20,
   "metadata": {},
   "outputs": [],
   "source": [
    "#name_df[name_df['cleansed_firstname']!='noname'].pivot_table(index=['firstletter'],columns=['gender'],values='cnt',aggfunc='sum')"
   ]
  },
  {
   "cell_type": "code",
   "execution_count": 21,
   "metadata": {},
   "outputs": [
    {
     "data": {
      "image/png": "[encoded data removed]",
      "text/plain": [
       "<Figure size 720x720 with 1 Axes>"
      ]
     },
     "metadata": {
      "needs_background": "light"
     },
     "output_type": "display_data"
    },
    {
     "data": {
      "text/plain": [
       "<matplotlib.axes._subplots.AxesSubplot at 0x1f4bf9c6f40>"
      ]
     },
     "execution_count": 21,
     "metadata": {},
     "output_type": "execute_result"
    }
   ],
   "source": [
    "#first letter and gender distribution\n",
    "\n",
    "dist=nltk.ConditionalFreqDist([(name[:1],gender) for name,gender in zip(name_df[name_df['cleansed_firstname']!='noname']['cleansed_firstname'],name_df[name_df['cleansed_firstname']!='noname']['gender'])])\n",
    "plt.figure(figsize=(10,10))\n",
    "dist.plot()\n"
   ]
  },
  {
   "cell_type": "code",
   "execution_count": 22,
   "metadata": {},
   "outputs": [
    {
     "name": "stdout",
     "output_type": "stream",
     "text": [
      "   FEMALE    MALE \n",
      "a  930810 1400466 \n",
      "b  613273 1041049 \n",
      "c  323664  516707 \n",
      "d  442416  787710 \n",
      "e  103402  139539 \n",
      "f  128191  123607 \n",
      "g  419536  691960 \n",
      "h  259270  450304 \n",
      "i  125954  188100 \n",
      "j  464442  650068 \n",
      "k  850796 1124771 \n",
      "l  309764  331377 \n",
      "m 1067842 1703128 \n",
      "n  555895  717581 \n",
      "o   36546   65553 \n",
      "p  753588 1042070 \n",
      "q    6422    8904 \n",
      "r  768236 1198060 \n",
      "s 2104480 2657326 \n",
      "t  351004  471503 \n",
      "u  128519  158299 \n",
      "v  401118  711739 \n",
      "w   26432   52338 \n",
      "x      14      23 \n",
      "y  107466  175440 \n",
      "z      55     117 \n"
     ]
    }
   ],
   "source": [
    "dist.tabulate()"
   ]
  },
  {
   "cell_type": "code",
   "execution_count": 23,
   "metadata": {},
   "outputs": [
    {
     "data": {
      "image/png": "[encoded data removed]",
      "text/plain": [
       "<Figure size 720x720 with 1 Axes>"
      ]
     },
     "metadata": {
      "needs_background": "light"
     },
     "output_type": "display_data"
    },
    {
     "data": {
      "text/plain": [
       "<matplotlib.axes._subplots.AxesSubplot at 0x1f4bf977580>"
      ]
     },
     "execution_count": 23,
     "metadata": {},
     "output_type": "execute_result"
    }
   ],
   "source": [
    "#last letter and gender distribution\n",
    "\n",
    "dist=nltk.ConditionalFreqDist([(name[-1],gender) for name,gender in zip(name_df[name_df['cleansed_firstname']!='noname']['cleansed_firstname'],name_df[name_df['cleansed_firstname']!='noname']['gender'])])\n",
    "plt.figure(figsize=(10,10))\n",
    "dist.plot()\n"
   ]
  },
  {
   "cell_type": "code",
   "execution_count": 24,
   "metadata": {},
   "outputs": [
    {
     "name": "stdout",
     "output_type": "stream",
     "text": [
      "   FEMALE    MALE \n",
      "a 4264492 3192200 \n",
      "b   29699  146535 \n",
      "c   15889   51857 \n",
      "d   97952  773258 \n",
      "e  352397  413612 \n",
      "f   12162   59778 \n",
      "g   64257  178295 \n",
      "h  240354 1388199 \n",
      "i 2919541 2096605 \n",
      "j   56905  250713 \n",
      "k   76748  312241 \n",
      "l  320992  960982 \n",
      "m  410157  881727 \n",
      "n  808910 1649531 \n",
      "o  128882  272395 \n",
      "p   42383  178655 \n",
      "q    2590   18703 \n",
      "r  354085 1345094 \n",
      "s   99705  298259 \n",
      "t  215865  515041 \n",
      "u  436625  749596 \n",
      "v   33512  182594 \n",
      "w    5805   18308 \n",
      "x      54     204 \n",
      "y  289146  473284 \n",
      "z      28      73 \n"
     ]
    }
   ],
   "source": [
    "dist.tabulate()"
   ]
  },
  {
   "cell_type": "markdown",
   "metadata": {},
   "source": [
    "# Select top 2000 first names for each letter"
   ]
  },
  {
   "cell_type": "code",
   "execution_count": 25,
   "metadata": {},
   "outputs": [],
   "source": [
    "firstletter_name_df=name_df[(name_df['cleansed_firstname']!='noname')].groupby(['firstletter_cleansed','cleansed_firstname']).cnt.agg([('cnt','sum')]).reset_index()\n",
    "\n",
    "#for each starting letter identify top 2000 names\n",
    "\n",
    "firstletter_name_top_2000_df=firstletter_name_df.groupby('firstletter_cleansed').apply(lambda x:x.sort_values(by='cnt',ascending=False).head(2000))\n",
    "\n",
    "firstletter_name_top_2000_df.rename(columns={'firstletter_cleansed':'firstletter_2'},inplace=True)\n",
    "firstletter_name_top_2000_df.reset_index(inplace=True)\n",
    "firstletter_name_top_2000_df.drop(columns=['firstletter_2','level_1'],inplace=True)\n",
    "\n",
    "#For each letter, Top 2000 names populations firstname first letter, gender combination count and distribution\n",
    "\n",
    "#firstletter_name_top_2000_df.pivot_table(index=['firstletter_cleansed'],values='cnt',aggfunc=['sum','count'])\n"
   ]
  },
  {
   "cell_type": "markdown",
   "metadata": {},
   "source": [
    "# Prepare data for training"
   ]
  },
  {
   "cell_type": "code",
   "execution_count": 26,
   "metadata": {},
   "outputs": [
    {
     "name": "stdout",
     "output_type": "stream",
     "text": [
      "Total Population: 514771852 , Cleasned firstname population: 484349431, Top 2000 firstname population: 406114992\n"
     ]
    }
   ],
   "source": [
    "#select top 2000 first names of each letters\n",
    "\n",
    "model_data=name_df.merge(firstletter_name_top_2000_df,on=['firstletter_cleansed','cleansed_firstname'],how='inner')\n",
    "print(\"Total Population: {} , Cleasned firstname population: {}, Top 2000 firstname population: {}\".format(name_df.cnt.sum(),firstletter_name_df.cnt.sum(),model_data.cnt_x.sum()))\n",
    "\n",
    "#unique firstname, gender combination\n",
    "training_data=model_data.groupby(['cleansed_firstname','gender']).cnt_x.sum().reset_index()\n",
    "\n",
    "#for each name, select top gender\n",
    "training_data= training_data.groupby('cleansed_firstname').apply(lambda x:x.sort_values(by='cnt_x',ascending=False).head(1))\n",
    "\n",
    "training_data.rename(columns={'cleansed_firstname':'cleansed_firstname_2'},inplace=True)\n",
    "training_data.reset_index(inplace=True)\n",
    "training_data.drop(columns=['cleansed_firstname_2','level_1'],inplace=True)\n",
    "\n",
    "#Overall population and cleansed name first letter, gender combination count and distribution\n",
    "\n",
    "#training_data['firstletter_cleansed']=training_data.cleansed_firstname.apply(lambda x:x[0] if len(x)>0 else '')\n",
    "#training_data.pivot_table(index=['firstletter_cleansed'],columns=['gender'],values='cnt_x',aggfunc=['sum','count'])\n"
   ]
  },
  {
   "cell_type": "code",
   "execution_count": 27,
   "metadata": {},
   "outputs": [],
   "source": [
    "#Think about feature, whether they are important\n",
    "#First letter\n",
    "#first2 letter\n",
    "#first3 letter\n",
    "#last letter\n",
    "#last2 letter\n",
    "#last3 letter\n",
    "#starting with vowel\n",
    "#ending with vowel\n",
    "#no of syllable"
   ]
  },
  {
   "cell_type": "code",
   "execution_count": 28,
   "metadata": {},
   "outputs": [],
   "source": [
    "training_data['firstletter']=training_data.cleansed_firstname.apply(lambda x:x[0])\n",
    "training_data['first2letter']=training_data.cleansed_firstname.apply(lambda x:x[:2])\n",
    "training_data['first3letter']=training_data.cleansed_firstname.apply(lambda x:x[:3])\n",
    "training_data['lastletter']=training_data.cleansed_firstname.apply(lambda x:x[-1])\n",
    "training_data['last2letter']=training_data.cleansed_firstname.apply(lambda x:x[-2:])\n",
    "training_data['last3letter']=training_data.cleansed_firstname.apply(lambda x:x[-3:])\n",
    "training_data['startswithvowel']=training_data.cleansed_firstname.apply(lambda x:1 if x[0] in 'aeiou' else 0)\n",
    "training_data['endwithvowel']=training_data.cleansed_firstname.apply(lambda x:1 if x[-1] in 'aeiou' else 0)\n",
    "training_data['noofsyllable']=training_data.cleansed_firstname.apply(lambda x:syllables.estimate(x))\n",
    "training_data['metaphone']=training_data.cleansed_firstname.apply(lambda x:ph.metaphone(x))\n",
    "training_data['namelength']=training_data.cleansed_firstname.apply(lambda x:len(x))"
   ]
  },
  {
   "cell_type": "markdown",
   "metadata": {},
   "source": [
    "# analyse categorical variable"
   ]
  },
  {
   "cell_type": "code",
   "execution_count": 37,
   "metadata": {},
   "outputs": [],
   "source": [
    "#metaphone wise analysis\n",
    "pd.pivot_table(index='metaphone',columns=['gender'],values='cnt_x',data=training_data.groupby(['metaphone','gender']).cnt_x.sum().reset_index()).to_csv('metaphone.CSV')\n",
    "\n",
    "#first and last letter analysis\n",
    "pd.pivot_table(index='firstletter',columns=['lastletter','gender'],values='cnt_x',data=training_data.groupby(['firstletter','lastletter','gender']).cnt_x.sum().reset_index()).to_csv('firstlastletter.CSV')\n",
    "\n",
    "#first 2 letter analysis\n",
    "pd.pivot_table(index='first2letter',columns=['gender'],values='cnt_x',data=training_data.groupby(['first2letter','gender']).cnt_x.sum().reset_index()).to_csv('first2letter.CSV')\n",
    "#last 2 letter analysis\n",
    "pd.pivot_table(index='last2letter',columns=['gender'],values='cnt_x',data=training_data.groupby(['last2letter','gender']).cnt_x.sum().reset_index()).to_csv('last2letter.CSV')\n",
    "#first 2 and last 2 letter analysis\n",
    "pd.pivot_table(index='first2letter',columns=['last2letter','gender'],values='cnt_x',data=training_data.groupby(['first2letter','last2letter','gender']).cnt_x.sum().reset_index()).to_csv('first2last2letter.CSV')\n",
    "\n",
    "#first 3 letter analysis\n",
    "pd.pivot_table(index='first3letter',columns=['gender'],values='cnt_x',data=training_data.groupby(['first3letter','gender']).cnt_x.sum().reset_index()).to_csv('first3letter.CSV')\n",
    "pd.pivot_table(index='last3letter',columns=['gender'],values='cnt_x',data=training_data.groupby(['last3letter','gender']).cnt_x.sum().reset_index()).to_csv('last3letter.CSV')"
   ]
  },
  {
   "cell_type": "markdown",
   "metadata": {},
   "source": [
    "# analyse numerical variable"
   ]
  },
  {
   "cell_type": "code",
   "execution_count": 40,
   "metadata": {},
   "outputs": [
    {
     "data": {
      "text/plain": [
       "<matplotlib.axes._subplots.AxesSubplot at 0x1a4c3c14f40>"
      ]
     },
     "execution_count": 40,
     "metadata": {},
     "output_type": "execute_result"
    },
    {
     "data": {
      "image/png": "[encoded data removed]",
      "text/plain": [
       "<Figure size 432x288 with 1 Axes>"
      ]
     },
     "metadata": {
      "needs_background": "light"
     },
     "output_type": "display_data"
    }
   ],
   "source": [
    "sn.boxplot(x='gender',y='noofsyllable',data=training_data)"
   ]
  },
  {
   "cell_type": "code",
   "execution_count": 41,
   "metadata": {},
   "outputs": [
    {
     "data": {
      "text/plain": [
       "<matplotlib.axes._subplots.AxesSubplot at 0x1a4c3ca7b20>"
      ]
     },
     "execution_count": 41,
     "metadata": {},
     "output_type": "execute_result"
    },
    {
     "data": {
      "image/png": "[encoded data removed]",
      "text/plain": [
       "<Figure size 432x288 with 1 Axes>"
      ]
     },
     "metadata": {
      "needs_background": "light"
     },
     "output_type": "display_data"
    }
   ],
   "source": [
    "sn.boxplot(x='gender',y='namelength',data=training_data)"
   ]
  },
  {
   "cell_type": "code",
   "execution_count": 42,
   "metadata": {},
   "outputs": [
    {
     "data": {
      "text/plain": [
       "<matplotlib.axes._subplots.AxesSubplot at 0x1a4c3cfb850>"
      ]
     },
     "execution_count": 42,
     "metadata": {},
     "output_type": "execute_result"
    },
    {
     "data": {
      "image/png": "[encoded data removed]",
      "text/plain": [
       "<Figure size 432x288 with 1 Axes>"
      ]
     },
     "metadata": {
      "needs_background": "light"
     },
     "output_type": "display_data"
    }
   ],
   "source": [
    "sn.barplot(x='gender',y='startswithvowel',data=training_data.groupby('gender').startswithvowel.sum().reset_index())"
   ]
  },
  {
   "cell_type": "code",
   "execution_count": 43,
   "metadata": {},
   "outputs": [
    {
     "data": {
      "text/plain": [
       "<matplotlib.axes._subplots.AxesSubplot at 0x1a4c3d2d490>"
      ]
     },
     "execution_count": 43,
     "metadata": {},
     "output_type": "execute_result"
    },
    {
     "data": {
      "image/png": "[encoded data removed]",
      "text/plain": [
       "<Figure size 432x288 with 1 Axes>"
      ]
     },
     "metadata": {
      "needs_background": "light"
     },
     "output_type": "display_data"
    }
   ],
   "source": [
    "sn.barplot(x='gender',y='endwithvowel',data=training_data.groupby('gender').endwithvowel.sum().reset_index())"
   ]
  },
  {
   "cell_type": "code",
   "execution_count": 29,
   "metadata": {},
   "outputs": [],
   "source": [
    "def features(name):\n",
    "    return ({\n",
    "        'first-letter':name[0],\n",
    "        'first-2letter':name[:2],\n",
    "        'first-3letter':name[:3],\n",
    "        'last-letter':name[-1],\n",
    "        'last-2letter':name[-2:],\n",
    "        'last-3letter':name[-3:],\n",
    "        'namelength':len(name),\n",
    "        'startswithvowel':1 if name[0] in 'aeiou' else 0,\n",
    "        'endwithvowel':1 if name[-1] in 'aeiou' else 0,\n",
    "        'noofsyllable':syllables.estimate(name),\n",
    "        #'soundex':ph.soundex(name)\n",
    "        'metaphone':ph.metaphone(name)\n",
    "        #'nys':ph.nysiis(name)\n",
    "        #'count':cnt\n",
    "    })"
   ]
  },
  {
   "cell_type": "code",
   "execution_count": 30,
   "metadata": {},
   "outputs": [],
   "source": [
    "def getRoccurve(y_test,y_pred_proba):\n",
    "    fpr,tpr,threshold=roc_curve(y_test,y_pred_proba)\n",
    "    score=roc_auc_score(y_test,y_pred_proba)\n",
    "    plt.xlabel('fpr')\n",
    "    plt.ylabel('tpr')\n",
    "    plt.plot(fpr,tpr,label='ROC Score %0.2f' %score)\n",
    "    plt.legend(loc='lower right')\n",
    "    \n",
    "    plt.show()"
   ]
  },
  {
   "cell_type": "code",
   "execution_count": 31,
   "metadata": {},
   "outputs": [],
   "source": [
    "features=np.vectorize(features)"
   ]
  },
  {
   "cell_type": "code",
   "execution_count": 33,
   "metadata": {},
   "outputs": [
    {
     "data": {
      "text/plain": [
       "DictVectorizer()"
      ]
     },
     "execution_count": 33,
     "metadata": {},
     "output_type": "execute_result"
    }
   ],
   "source": [
    "le=LabelEncoder()\n",
    "training_data['gender']=le.fit_transform(training_data['gender'])\n",
    "\n",
    "gender_0_oversample=resample(training_data[training_data['gender']==1],n_samples=30000)\n",
    "gender_1_oversample=resample(training_data[training_data['gender']==0],n_samples=30000)\n",
    "training_data=pd.concat([gender_0_oversample,gender_1_oversample])\n",
    "\n",
    "X=features(training_data['cleansed_firstname'])\n",
    "Y=training_data['gender']\n",
    "x_train,x_test,y_train,y_test=train_test_split(X,Y,test_size=0.3,random_state=42)\n",
    "\n",
    "\n",
    "dv=DictVectorizer()\n",
    "dv.fit(X)\n"
   ]
  },
  {
   "cell_type": "code",
   "execution_count": 66,
   "metadata": {},
   "outputs": [
    {
     "name": "stderr",
     "output_type": "stream",
     "text": [
      "C:\\ProgramData\\Anaconda3\\lib\\site-packages\\sklearn\\linear_model\\_logistic.py:762: ConvergenceWarning: lbfgs failed to converge (status=1):\n",
      "STOP: TOTAL NO. of ITERATIONS REACHED LIMIT.\n",
      "\n",
      "Increase the number of iterations (max_iter) or scale the data as shown in:\n",
      "    https://scikit-learn.org/stable/modules/preprocessing.html\n",
      "Please also refer to the documentation for alternative solver options:\n",
      "    https://scikit-learn.org/stable/modules/linear_model.html#logistic-regression\n",
      "  n_iter_i = _check_optimize_result(\n"
     ]
    },
    {
     "name": "stdout",
     "output_type": "stream",
     "text": [
      "              precision    recall  f1-score   support\n",
      "\n",
      "           0       0.86      0.87      0.86      9056\n",
      "           1       0.87      0.85      0.86      8944\n",
      "\n",
      "    accuracy                           0.86     18000\n",
      "   macro avg       0.86      0.86      0.86     18000\n",
      "weighted avg       0.86      0.86      0.86     18000\n",
      "\n"
     ]
    },
    {
     "data": {
      "image/png": "[encoded data removed]",
      "text/plain": [
       "<Figure size 432x288 with 1 Axes>"
      ]
     },
     "metadata": {
      "needs_background": "light"
     },
     "output_type": "display_data"
    }
   ],
   "source": [
    "from sklearn.linear_model import LogisticRegression\n",
    "lr=LogisticRegression()\n",
    "lr.fit(dv.transform(x_train),y_train)\n",
    "y_pred=lr.predict(dv.transform(x_test))\n",
    "y_pred_prob=lr.predict_proba(dv.transform(x_test))\n",
    "    \n",
    "print(classification_report(y_test,y_pred))\n",
    "getRoccurve(y_test,y_pred_prob[:,1])"
   ]
  },
  {
   "cell_type": "code",
   "execution_count": 67,
   "metadata": {},
   "outputs": [
    {
     "name": "stdout",
     "output_type": "stream",
     "text": [
      "              precision    recall  f1-score   support\n",
      "\n",
      "           0       0.93      0.95      0.94      9056\n",
      "           1       0.95      0.93      0.94      8944\n",
      "\n",
      "    accuracy                           0.94     18000\n",
      "   macro avg       0.94      0.94      0.94     18000\n",
      "weighted avg       0.94      0.94      0.94     18000\n",
      "\n"
     ]
    },
    {
     "data": {
      "image/png": "[encoded data removed]",
      "text/plain": [
       "<Figure size 432x288 with 1 Axes>"
      ]
     },
     "metadata": {
      "needs_background": "light"
     },
     "output_type": "display_data"
    }
   ],
   "source": [
    "from sklearn.ensemble import RandomForestClassifier\n",
    "rf=RandomForestClassifier(n_estimators=100)\n",
    "rf.fit(dv.transform(x_train),y_train)\n",
    "y_pred=rf.predict(dv.transform(x_test))\n",
    "y_pred_prob=rf.predict_proba(dv.transform(x_test))\n",
    "    \n",
    "print(classification_report(y_test,y_pred))\n",
    "getRoccurve(y_test,y_pred_prob[:,1])"
   ]
  },
  {
   "cell_type": "code",
   "execution_count": 68,
   "metadata": {},
   "outputs": [],
   "source": [
    "#feature importance\n",
    "pd.DataFrame({'columns':dv.feature_names_,'score':rf.feature_importances_}).to_csv('feature_importance.csv')"
   ]
  },
  {
   "cell_type": "code",
   "execution_count": 69,
   "metadata": {},
   "outputs": [
    {
     "name": "stdout",
     "output_type": "stream",
     "text": [
      "[16:19:04] WARNING: C:\\Users\\Administrator\\workspace\\xgboost-win64_release_1.1.0\\src\\learner.cc:480: \n",
      "Parameters: { nround } might not be used.\n",
      "\n",
      "  This may not be accurate due to some parameters are only used in language bindings but\n",
      "  passed down to XGBoost core.  Or some parameters are not used but slip through this\n",
      "  verification. Please open an issue if you find above cases.\n",
      "\n",
      "\n",
      "              precision    recall  f1-score   support\n",
      "\n",
      "           0       0.83      0.85      0.84      9056\n",
      "           1       0.84      0.82      0.83      8944\n",
      "\n",
      "    accuracy                           0.83     18000\n",
      "   macro avg       0.84      0.83      0.83     18000\n",
      "weighted avg       0.83      0.83      0.83     18000\n",
      "\n"
     ]
    },
    {
     "data": {
      "image/png": "[encoded data removed]",
      "text/plain": [
       "<Figure size 432x288 with 1 Axes>"
      ]
     },
     "metadata": {
      "needs_background": "light"
     },
     "output_type": "display_data"
    }
   ],
   "source": [
    "from xgboost import XGBClassifier\n",
    "xgc=XGBClassifier(nround=20,alpha=0.1,max_depth=8)\n",
    "xgc.fit(dv.transform(x_train),y_train)\n",
    "y_pred=xgc.predict(dv.transform(x_test))\n",
    "y_pred_prob=xgc.predict_proba(dv.transform(x_test))\n",
    "    \n",
    "print(classification_report(y_test,y_pred))\n",
    "getRoccurve(y_test,y_pred_prob[:,1])"
   ]
  },
  {
   "cell_type": "code",
   "execution_count": 632,
   "metadata": {},
   "outputs": [],
   "source": [
    "from sklearn.model_selection import GridSearchCV"
   ]
  },
  {
   "cell_type": "code",
   "execution_count": 633,
   "metadata": {},
   "outputs": [],
   "source": [
    "parameter={'aplha':[0.01,0.02,0.03], 'max_depth' :range(6,8),'objective':['binary:logistic']}"
   ]
  },
  {
   "cell_type": "code",
   "execution_count": 634,
   "metadata": {},
   "outputs": [],
   "source": [
    "xgc=XGBClassifier()"
   ]
  },
  {
   "cell_type": "code",
   "execution_count": 635,
   "metadata": {},
   "outputs": [],
   "source": [
    "clf=GridSearchCV(xgc,parameter,cv=10)"
   ]
  },
  {
   "cell_type": "code",
   "execution_count": null,
   "metadata": {},
   "outputs": [],
   "source": [
    "clf.fit(dv.transform(x_train),y_train)"
   ]
  },
  {
   "cell_type": "code",
   "execution_count": 364,
   "metadata": {},
   "outputs": [
    {
     "data": {
      "text/plain": [
       "array([[4487, 1348],\n",
       "       [1231, 8340]], dtype=int64)"
      ]
     },
     "execution_count": 364,
     "metadata": {},
     "output_type": "execute_result"
    }
   ],
   "source": [
    "confusion_matrix(y_test,y_pred)"
   ]
  },
  {
   "cell_type": "code",
   "execution_count": 638,
   "metadata": {},
   "outputs": [
    {
     "data": {
      "text/plain": [
       "0.8206286326291545"
      ]
     },
     "execution_count": 638,
     "metadata": {},
     "output_type": "execute_result"
    }
   ],
   "source": [
    "clf.best_score_"
   ]
  },
  {
   "cell_type": "code",
   "execution_count": 640,
   "metadata": {},
   "outputs": [
    {
     "data": {
      "text/plain": [
       "{'aplha': 0.01, 'max_depth': 7, 'objective': 'binary:logistic'}"
      ]
     },
     "execution_count": 640,
     "metadata": {},
     "output_type": "execute_result"
    }
   ],
   "source": [
    "clf.best_params_"
   ]
  },
  {
   "cell_type": "code",
   "execution_count": 245,
   "metadata": {},
   "outputs": [],
   "source": [
    "import phonetics as ph"
   ]
  },
  {
   "cell_type": "code",
   "execution_count": 250,
   "metadata": {},
   "outputs": [
    {
     "data": {
      "text/plain": [
       "'s0102060'"
      ]
     },
     "execution_count": 250,
     "metadata": {},
     "output_type": "execute_result"
    }
   ],
   "source": [
    "ph.soundex('subhashree')"
   ]
  },
  {
   "cell_type": "code",
   "execution_count": 365,
   "metadata": {},
   "outputs": [
    {
     "data": {
      "text/plain": [
       "('SPXR', '')"
      ]
     },
     "execution_count": 365,
     "metadata": {},
     "output_type": "execute_result"
    }
   ],
   "source": [
    "ph.dmetaphone('subhashree')"
   ]
  },
  {
   "cell_type": "code",
   "execution_count": 392,
   "metadata": {},
   "outputs": [
    {
     "data": {
      "text/plain": [
       "'GA'"
      ]
     },
     "execution_count": 392,
     "metadata": {},
     "output_type": "execute_result"
    }
   ],
   "source": [
    "ph.nysiis('gunjan')"
   ]
  },
  {
   "cell_type": "code",
   "execution_count": 415,
   "metadata": {},
   "outputs": [
    {
     "data": {
      "text/plain": [
       "'SA'"
      ]
     },
     "execution_count": 415,
     "metadata": {},
     "output_type": "execute_result"
    }
   ],
   "source": [
    "ph.nysiis('sonelal')"
   ]
  },
  {
   "cell_type": "code",
   "execution_count": 945,
   "metadata": {},
   "outputs": [
    {
     "data": {
      "text/plain": [
       "array([1], dtype=int64)"
      ]
     },
     "execution_count": 945,
     "metadata": {},
     "output_type": "execute_result"
    }
   ],
   "source": [
    "rf.predict(dv.transform(features(['rose'])))"
   ]
  },
  {
   "cell_type": "code",
   "execution_count": 911,
   "metadata": {},
   "outputs": [
    {
     "data": {
      "text/plain": [
       "array([1], dtype=int64)"
      ]
     },
     "execution_count": 911,
     "metadata": {},
     "output_type": "execute_result"
    }
   ],
   "source": [
    "xgc.predict(dv.transform(features(['priyanshu'])))"
   ]
  },
  {
   "cell_type": "code",
   "execution_count": 416,
   "metadata": {},
   "outputs": [
    {
     "data": {
      "text/plain": [
       "<1x20681 sparse matrix of type '<class 'numpy.float64'>'\n",
       "\twith 7 stored elements in Compressed Sparse Row format>"
      ]
     },
     "execution_count": 416,
     "metadata": {},
     "output_type": "execute_result"
    }
   ],
   "source": [
    "dv.transform(features(['gunjan']))"
   ]
  },
  {
   "cell_type": "code",
   "execution_count": null,
   "metadata": {},
   "outputs": [],
   "source": []
  }
 ],
 "metadata": {
  "kernelspec": {
   "display_name": "Python 3",
   "language": "python",
   "name": "python3"
  },
  "language_info": {
   "codemirror_mode": {
    "name": "ipython",
    "version": 3
   },
   "file_extension": ".py",
   "mimetype": "text/x-python",
   "name": "python",
   "nbconvert_exporter": "python",
   "pygments_lexer": "ipython3",
   "version": "3.8.3"
  }
 },
 "nbformat": 4,
 "nbformat_minor": 4
}
